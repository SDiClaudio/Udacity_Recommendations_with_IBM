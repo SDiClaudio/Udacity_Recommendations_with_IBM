{
  "cells": [
    {
      "cell_type": "code",
      "execution_count": null,
      "metadata": {
        "id": "1pDbEXMOrkTc",
        "outputId": "97e76710-3ad6-476e-9d44-83eed854a6e9"
      },
      "outputs": [
        {
          "data": {
            "text/html": [
              "<div>\n",
              "<style scoped>\n",
              "    .dataframe tbody tr th:only-of-type {\n",
              "        vertical-align: middle;\n",
              "    }\n",
              "\n",
              "    .dataframe tbody tr th {\n",
              "        vertical-align: top;\n",
              "    }\n",
              "\n",
              "    .dataframe thead th {\n",
              "        text-align: right;\n",
              "    }\n",
              "</style>\n",
              "<table border=\"1\" class=\"dataframe\">\n",
              "  <thead>\n",
              "    <tr style=\"text-align: right;\">\n",
              "      <th></th>\n",
              "      <th>article_id</th>\n",
              "      <th>title</th>\n",
              "      <th>email</th>\n",
              "    </tr>\n",
              "  </thead>\n",
              "  <tbody>\n",
              "    <tr>\n",
              "      <th>0</th>\n",
              "      <td>1430.0</td>\n",
              "      <td>using pixiedust for fast, flexible, and easier...</td>\n",
              "      <td>ef5f11f77ba020cd36e1105a00ab868bbdbf7fe7</td>\n",
              "    </tr>\n",
              "    <tr>\n",
              "      <th>1</th>\n",
              "      <td>1314.0</td>\n",
              "      <td>healthcare python streaming application demo</td>\n",
              "      <td>083cbdfa93c8444beaa4c5f5e0f5f9198e4f9e0b</td>\n",
              "    </tr>\n",
              "    <tr>\n",
              "      <th>2</th>\n",
              "      <td>1429.0</td>\n",
              "      <td>use deep learning for image classification</td>\n",
              "      <td>b96a4f2e92d8572034b1e9b28f9ac673765cd074</td>\n",
              "    </tr>\n",
              "    <tr>\n",
              "      <th>3</th>\n",
              "      <td>1338.0</td>\n",
              "      <td>ml optimization using cognitive assistant</td>\n",
              "      <td>06485706b34a5c9bf2a0ecdac41daf7e7654ceb7</td>\n",
              "    </tr>\n",
              "    <tr>\n",
              "      <th>4</th>\n",
              "      <td>1276.0</td>\n",
              "      <td>deploy your python model as a restful api</td>\n",
              "      <td>f01220c46fc92c6e6b161b1849de11faacd7ccb2</td>\n",
              "    </tr>\n",
              "  </tbody>\n",
              "</table>\n",
              "</div>"
            ],
            "text/plain": [
              "   article_id                                              title  \\\n",
              "0      1430.0  using pixiedust for fast, flexible, and easier...   \n",
              "1      1314.0       healthcare python streaming application demo   \n",
              "2      1429.0         use deep learning for image classification   \n",
              "3      1338.0          ml optimization using cognitive assistant   \n",
              "4      1276.0          deploy your python model as a restful api   \n",
              "\n",
              "                                      email  \n",
              "0  ef5f11f77ba020cd36e1105a00ab868bbdbf7fe7  \n",
              "1  083cbdfa93c8444beaa4c5f5e0f5f9198e4f9e0b  \n",
              "2  b96a4f2e92d8572034b1e9b28f9ac673765cd074  \n",
              "3  06485706b34a5c9bf2a0ecdac41daf7e7654ceb7  \n",
              "4  f01220c46fc92c6e6b161b1849de11faacd7ccb2  "
            ]
          },
          "execution_count": 1,
          "metadata": {},
          "output_type": "execute_result"
        }
      ],
      "source": [
        "import pandas as pd\n",
        "import numpy as np\n",
        "import matplotlib.pyplot as plt\n",
        "import project_tests as t\n",
        "import pickle\n",
        "\n",
        "%matplotlib inline\n",
        "\n",
        "df = pd.read_csv('data/user-item-interactions.csv')\n",
        "df_content = pd.read_csv('data/articles_community.csv')\n",
        "del df['Unnamed: 0']\n",
        "del df_content['Unnamed: 0']\n",
        "\n",
        "# Show df to get an idea of the data\n",
        "df.head()"
      ]
    },
    {
      "cell_type": "code",
      "execution_count": null,
      "metadata": {
        "id": "qRRW0fXzrkTd",
        "outputId": "bfd00b40-2182-42ca-f040-39d655a34a4f"
      },
      "outputs": [
        {
          "data": {
            "text/plain": [
              "(45993, 3)"
            ]
          },
          "execution_count": 2,
          "metadata": {},
          "output_type": "execute_result"
        }
      ],
      "source": [
        "df.shape"
      ]
    },
    {
      "cell_type": "code",
      "execution_count": null,
      "metadata": {
        "id": "vjZsp4v-rkTe",
        "outputId": "81733a41-5c22-414e-ed0c-1585ab58164d"
      },
      "outputs": [
        {
          "name": "stdout",
          "output_type": "stream",
          "text": [
            "<class 'pandas.core.frame.DataFrame'>\n",
            "RangeIndex: 45993 entries, 0 to 45992\n",
            "Data columns (total 3 columns):\n",
            "article_id    45993 non-null float64\n",
            "title         45993 non-null object\n",
            "email         45976 non-null object\n",
            "dtypes: float64(1), object(2)\n",
            "memory usage: 1.1+ MB\n"
          ]
        }
      ],
      "source": [
        "df.info()"
      ]
    },
    {
      "cell_type": "code",
      "execution_count": null,
      "metadata": {
        "id": "tuDyYYzhrkTe",
        "outputId": "13f7e144-a599-4533-84c8-7ae40796b074"
      },
      "outputs": [
        {
          "data": {
            "text/html": [
              "<div>\n",
              "<style scoped>\n",
              "    .dataframe tbody tr th:only-of-type {\n",
              "        vertical-align: middle;\n",
              "    }\n",
              "\n",
              "    .dataframe tbody tr th {\n",
              "        vertical-align: top;\n",
              "    }\n",
              "\n",
              "    .dataframe thead th {\n",
              "        text-align: right;\n",
              "    }\n",
              "</style>\n",
              "<table border=\"1\" class=\"dataframe\">\n",
              "  <thead>\n",
              "    <tr style=\"text-align: right;\">\n",
              "      <th></th>\n",
              "      <th>doc_body</th>\n",
              "      <th>doc_description</th>\n",
              "      <th>doc_full_name</th>\n",
              "      <th>doc_status</th>\n",
              "      <th>article_id</th>\n",
              "    </tr>\n",
              "  </thead>\n",
              "  <tbody>\n",
              "    <tr>\n",
              "      <th>0</th>\n",
              "      <td>Skip navigation Sign in SearchLoading...\\r\\n\\r...</td>\n",
              "      <td>Detect bad readings in real time using Python ...</td>\n",
              "      <td>Detect Malfunctioning IoT Sensors with Streami...</td>\n",
              "      <td>Live</td>\n",
              "      <td>0</td>\n",
              "    </tr>\n",
              "    <tr>\n",
              "      <th>1</th>\n",
              "      <td>No Free Hunch Navigation * kaggle.com\\r\\n\\r\\n ...</td>\n",
              "      <td>See the forest, see the trees. Here lies the c...</td>\n",
              "      <td>Communicating data science: A guide to present...</td>\n",
              "      <td>Live</td>\n",
              "      <td>1</td>\n",
              "    </tr>\n",
              "    <tr>\n",
              "      <th>2</th>\n",
              "      <td>☰ * Login\\r\\n * Sign Up\\r\\n\\r\\n * Learning Pat...</td>\n",
              "      <td>Here’s this week’s news in Data Science and Bi...</td>\n",
              "      <td>This Week in Data Science (April 18, 2017)</td>\n",
              "      <td>Live</td>\n",
              "      <td>2</td>\n",
              "    </tr>\n",
              "    <tr>\n",
              "      <th>3</th>\n",
              "      <td>DATALAYER: HIGH THROUGHPUT, LOW LATENCY AT SCA...</td>\n",
              "      <td>Learn how distributed DBs solve the problem of...</td>\n",
              "      <td>DataLayer Conference: Boost the performance of...</td>\n",
              "      <td>Live</td>\n",
              "      <td>3</td>\n",
              "    </tr>\n",
              "    <tr>\n",
              "      <th>4</th>\n",
              "      <td>Skip navigation Sign in SearchLoading...\\r\\n\\r...</td>\n",
              "      <td>This video demonstrates the power of IBM DataS...</td>\n",
              "      <td>Analyze NY Restaurant data using Spark in DSX</td>\n",
              "      <td>Live</td>\n",
              "      <td>4</td>\n",
              "    </tr>\n",
              "  </tbody>\n",
              "</table>\n",
              "</div>"
            ],
            "text/plain": [
              "                                            doc_body  \\\n",
              "0  Skip navigation Sign in SearchLoading...\\r\\n\\r...   \n",
              "1  No Free Hunch Navigation * kaggle.com\\r\\n\\r\\n ...   \n",
              "2  ☰ * Login\\r\\n * Sign Up\\r\\n\\r\\n * Learning Pat...   \n",
              "3  DATALAYER: HIGH THROUGHPUT, LOW LATENCY AT SCA...   \n",
              "4  Skip navigation Sign in SearchLoading...\\r\\n\\r...   \n",
              "\n",
              "                                     doc_description  \\\n",
              "0  Detect bad readings in real time using Python ...   \n",
              "1  See the forest, see the trees. Here lies the c...   \n",
              "2  Here’s this week’s news in Data Science and Bi...   \n",
              "3  Learn how distributed DBs solve the problem of...   \n",
              "4  This video demonstrates the power of IBM DataS...   \n",
              "\n",
              "                                       doc_full_name doc_status  article_id  \n",
              "0  Detect Malfunctioning IoT Sensors with Streami...       Live           0  \n",
              "1  Communicating data science: A guide to present...       Live           1  \n",
              "2         This Week in Data Science (April 18, 2017)       Live           2  \n",
              "3  DataLayer Conference: Boost the performance of...       Live           3  \n",
              "4      Analyze NY Restaurant data using Spark in DSX       Live           4  "
            ]
          },
          "execution_count": 5,
          "metadata": {},
          "output_type": "execute_result"
        }
      ],
      "source": [
        "# Show df_content to get an idea of the data\n",
        "df_content.head()"
      ]
    },
    {
      "cell_type": "code",
      "execution_count": null,
      "metadata": {
        "id": "nWFEhFz3rkTe",
        "outputId": "4a820d6a-081a-4a25-d826-35fa630cd134"
      },
      "outputs": [
        {
          "name": "stdout",
          "output_type": "stream",
          "text": [
            "<class 'pandas.core.frame.DataFrame'>\n",
            "RangeIndex: 1056 entries, 0 to 1055\n",
            "Data columns (total 5 columns):\n",
            "doc_body           1042 non-null object\n",
            "doc_description    1053 non-null object\n",
            "doc_full_name      1056 non-null object\n",
            "doc_status         1056 non-null object\n",
            "article_id         1056 non-null int64\n",
            "dtypes: int64(1), object(4)\n",
            "memory usage: 41.3+ KB\n"
          ]
        }
      ],
      "source": [
        "df_content.info()"
      ]
    },
    {
      "cell_type": "markdown",
      "metadata": {
        "id": "Q0qVvSiQrkTe"
      },
      "source": [
        "### <a class=\"anchor\" id=\"Exploratory-Data-Analysis\">Part I : Exploratory Data Analysis</a>"
      ]
    },
    {
      "cell_type": "code",
      "execution_count": null,
      "metadata": {
        "id": "9hKgBqL2rkTf",
        "outputId": "64d5089c-4a52-4acc-aeab-0f9993014487"
      },
      "outputs": [
        {
          "data": {
            "text/html": [
              "<div>\n",
              "<style scoped>\n",
              "    .dataframe tbody tr th:only-of-type {\n",
              "        vertical-align: middle;\n",
              "    }\n",
              "\n",
              "    .dataframe tbody tr th {\n",
              "        vertical-align: top;\n",
              "    }\n",
              "\n",
              "    .dataframe thead th {\n",
              "        text-align: right;\n",
              "    }\n",
              "</style>\n",
              "<table border=\"1\" class=\"dataframe\">\n",
              "  <thead>\n",
              "    <tr style=\"text-align: right;\">\n",
              "      <th></th>\n",
              "      <th>interactions count</th>\n",
              "    </tr>\n",
              "  </thead>\n",
              "  <tbody>\n",
              "    <tr>\n",
              "      <th>count</th>\n",
              "      <td>5148.000000</td>\n",
              "    </tr>\n",
              "    <tr>\n",
              "      <th>mean</th>\n",
              "      <td>8.930847</td>\n",
              "    </tr>\n",
              "    <tr>\n",
              "      <th>std</th>\n",
              "      <td>16.802267</td>\n",
              "    </tr>\n",
              "    <tr>\n",
              "      <th>min</th>\n",
              "      <td>1.000000</td>\n",
              "    </tr>\n",
              "    <tr>\n",
              "      <th>25%</th>\n",
              "      <td>1.000000</td>\n",
              "    </tr>\n",
              "    <tr>\n",
              "      <th>50%</th>\n",
              "      <td>3.000000</td>\n",
              "    </tr>\n",
              "    <tr>\n",
              "      <th>75%</th>\n",
              "      <td>9.000000</td>\n",
              "    </tr>\n",
              "    <tr>\n",
              "      <th>max</th>\n",
              "      <td>364.000000</td>\n",
              "    </tr>\n",
              "  </tbody>\n",
              "</table>\n",
              "</div>"
            ],
            "text/plain": [
              "       interactions count\n",
              "count         5148.000000\n",
              "mean             8.930847\n",
              "std             16.802267\n",
              "min              1.000000\n",
              "25%              1.000000\n",
              "50%              3.000000\n",
              "75%              9.000000\n",
              "max            364.000000"
            ]
          },
          "execution_count": 7,
          "metadata": {},
          "output_type": "execute_result"
        }
      ],
      "source": [
        "interactions = df.groupby(['email'])['article_id'].count().reset_index()\n",
        "interactions.rename(columns={'article_id':'interactions count'}, inplace=True)\n",
        "interactions.describe()"
      ]
    },
    {
      "cell_type": "code",
      "execution_count": null,
      "metadata": {
        "id": "-1oP3gyyrkTf"
      },
      "outputs": [],
      "source": [
        "# Fill in the median and maximum number of user_article interactios below\n",
        "\n",
        "median_val = 3 # 50% of individuals interact with 3 number of articles or fewer.\n",
        "max_views_by_user = 364 # The maximum number of user-article interactions by any 1 user is 364."
      ]
    },
    {
      "cell_type": "markdown",
      "metadata": {
        "id": "m6FVsoRfrkTf"
      },
      "source": [
        "`2.` Explore and remove duplicate articles from the **df_content** dataframe.  "
      ]
    },
    {
      "cell_type": "code",
      "execution_count": null,
      "metadata": {
        "id": "MHsvyz0RrkTf",
        "outputId": "d5de8832-45b6-4611-d367-e9796314c794"
      },
      "outputs": [
        {
          "data": {
            "text/plain": [
              "5"
            ]
          },
          "execution_count": 9,
          "metadata": {},
          "output_type": "execute_result"
        }
      ],
      "source": [
        "# Find and explore duplicate articles\n",
        "\n",
        "df_content.duplicated(subset='article_id').sum()"
      ]
    },
    {
      "cell_type": "code",
      "execution_count": null,
      "metadata": {
        "id": "zJvuOGNFrkTg",
        "outputId": "595be219-0832-4c3a-eb82-6fc8c7bb015f"
      },
      "outputs": [
        {
          "data": {
            "text/plain": [
              "0"
            ]
          },
          "execution_count": 10,
          "metadata": {},
          "output_type": "execute_result"
        }
      ],
      "source": [
        "# Remove any rows that have the same article_id - only keep the first\n",
        "\n",
        "df_content.drop_duplicates(subset='article_id', inplace=True)\n",
        "df_content.duplicated(subset='article_id').sum()"
      ]
    },
    {
      "cell_type": "markdown",
      "metadata": {
        "id": "6J7_9TKVrkTg"
      },
      "source": [
        "\n",
        "Use the cells below to find:\n",
        "\n",
        "**a.** The number of unique articles that have an interaction with a user.  \n",
        "**b.** The number of unique articles in the dataset (whether they have any interactions or not).<br>\n",
        "**c.** The number of unique users in the dataset. (excluding null values) <br>\n",
        "**d.** The number of user-article interactions in the dataset."
      ]
    },
    {
      "cell_type": "code",
      "execution_count": null,
      "metadata": {
        "scrolled": true,
        "id": "lZCNrmQGrkTg",
        "outputId": "791696ba-9a98-44d1-d10b-ecbbd9567345"
      },
      "outputs": [
        {
          "data": {
            "text/html": [
              "<div>\n",
              "<style scoped>\n",
              "    .dataframe tbody tr th:only-of-type {\n",
              "        vertical-align: middle;\n",
              "    }\n",
              "\n",
              "    .dataframe tbody tr th {\n",
              "        vertical-align: top;\n",
              "    }\n",
              "\n",
              "    .dataframe thead th {\n",
              "        text-align: right;\n",
              "    }\n",
              "</style>\n",
              "<table border=\"1\" class=\"dataframe\">\n",
              "  <thead>\n",
              "    <tr style=\"text-align: right;\">\n",
              "      <th></th>\n",
              "      <th>article_id</th>\n",
              "      <th>unique users</th>\n",
              "    </tr>\n",
              "  </thead>\n",
              "  <tbody>\n",
              "    <tr>\n",
              "      <th>625</th>\n",
              "      <td>1330.0</td>\n",
              "      <td>467</td>\n",
              "    </tr>\n",
              "    <tr>\n",
              "      <th>699</th>\n",
              "      <td>1429.0</td>\n",
              "      <td>397</td>\n",
              "    </tr>\n",
              "    <tr>\n",
              "      <th>652</th>\n",
              "      <td>1364.0</td>\n",
              "      <td>388</td>\n",
              "    </tr>\n",
              "    <tr>\n",
              "      <th>614</th>\n",
              "      <td>1314.0</td>\n",
              "      <td>345</td>\n",
              "    </tr>\n",
              "    <tr>\n",
              "      <th>671</th>\n",
              "      <td>1398.0</td>\n",
              "      <td>329</td>\n",
              "    </tr>\n",
              "  </tbody>\n",
              "</table>\n",
              "</div>"
            ],
            "text/plain": [
              "     article_id  unique users\n",
              "625      1330.0           467\n",
              "699      1429.0           397\n",
              "652      1364.0           388\n",
              "614      1314.0           345\n",
              "671      1398.0           329"
            ]
          },
          "execution_count": 11,
          "metadata": {},
          "output_type": "execute_result"
        }
      ],
      "source": [
        "# The number of unique articles that have at least one interaction with a user\n",
        "\n",
        "u_interactions = df.groupby(['article_id'])['email'].nunique().reset_index()\n",
        "u_interactions.rename(columns={'email':'unique users'}, inplace=True)\n",
        "u_interactions.sort_values(by='unique users', ascending=False).head()"
      ]
    },
    {
      "cell_type": "code",
      "execution_count": null,
      "metadata": {
        "id": "8EUeV9rFrkTg",
        "outputId": "8bd11383-15c3-4c8a-8328-3dafccb88a8e"
      },
      "outputs": [
        {
          "data": {
            "text/plain": [
              "714"
            ]
          },
          "execution_count": 12,
          "metadata": {},
          "output_type": "execute_result"
        }
      ],
      "source": [
        "# The number of unique articles in the dataset (whether they have any interactions or not)\n",
        "\n",
        "unique_articles = df['article_id'].nunique()\n",
        "unique_articles"
      ]
    },
    {
      "cell_type": "code",
      "execution_count": null,
      "metadata": {
        "id": "EYThCeMVrkTh",
        "outputId": "2252b3cf-0840-4234-e1f0-d00e3a3fdcd9"
      },
      "outputs": [
        {
          "data": {
            "text/plain": [
              "5148"
            ]
          },
          "execution_count": 13,
          "metadata": {},
          "output_type": "execute_result"
        }
      ],
      "source": [
        "# The number of unique users in the dataset. (excluding null values)\n",
        "\n",
        "unique_users = df['email'].nunique()\n",
        "unique_users"
      ]
    },
    {
      "cell_type": "code",
      "execution_count": null,
      "metadata": {
        "id": "6ch2VZvDrkTh",
        "outputId": "8d55095e-f8c5-4626-c897-c134b2375806"
      },
      "outputs": [
        {
          "data": {
            "text/plain": [
              "45993"
            ]
          },
          "execution_count": 14,
          "metadata": {},
          "output_type": "execute_result"
        }
      ],
      "source": [
        "# The number of user-article interactions in the dataset\n",
        "\n",
        "tot_inter = df.shape[0]\n",
        "tot_inter"
      ]
    },
    {
      "cell_type": "code",
      "execution_count": null,
      "metadata": {
        "id": "s5sDOPdkrkTh",
        "outputId": "f0183c04-7a1a-404c-d89b-fca329666ba2"
      },
      "outputs": [
        {
          "data": {
            "text/plain": [
              "1051"
            ]
          },
          "execution_count": 15,
          "metadata": {},
          "output_type": "execute_result"
        }
      ],
      "source": [
        "# The number of unique articles on the IBM platform\n",
        "\n",
        "total_articles = df_content['article_id'].nunique()\n",
        "total_articles"
      ]
    },
    {
      "cell_type": "markdown",
      "metadata": {
        "id": "F4YL-2CDrkTh"
      },
      "source": [
        "\n",
        "Use the cells below to find the most viewed **article_id**, as well as how often it was viewed.  After talking to the company leaders, the `email_mapper` function was deemed a reasonable way to map users to ids.  There were a small number of null values, and it was found that all of these null values likely belonged to a single user (which is how they are stored using the function below)."
      ]
    },
    {
      "cell_type": "code",
      "execution_count": null,
      "metadata": {
        "id": "N08cWLsUrkTh"
      },
      "outputs": [],
      "source": [
        "# The most viewed article in the dataset as a string with one value following the decimal \n",
        "most_viewed_article_id = str(df.groupby(['article_id'])['email'].count().sort_values(ascending=False).index[0])\n",
        "\n",
        "# The most viewed article in the dataset was viewed how many times?\n",
        "max_views = df.groupby(['article_id'])['email'].count().sort_values(ascending=False).values[0] "
      ]
    },
    {
      "cell_type": "code",
      "execution_count": null,
      "metadata": {
        "id": "P7BOYxw3rkTh",
        "outputId": "bb25e163-0d4e-4fc1-eba5-07e2f34eac6e"
      },
      "outputs": [
        {
          "data": {
            "text/html": [
              "<div>\n",
              "<style scoped>\n",
              "    .dataframe tbody tr th:only-of-type {\n",
              "        vertical-align: middle;\n",
              "    }\n",
              "\n",
              "    .dataframe tbody tr th {\n",
              "        vertical-align: top;\n",
              "    }\n",
              "\n",
              "    .dataframe thead th {\n",
              "        text-align: right;\n",
              "    }\n",
              "</style>\n",
              "<table border=\"1\" class=\"dataframe\">\n",
              "  <thead>\n",
              "    <tr style=\"text-align: right;\">\n",
              "      <th></th>\n",
              "      <th>article_id</th>\n",
              "      <th>title</th>\n",
              "      <th>user_id</th>\n",
              "    </tr>\n",
              "  </thead>\n",
              "  <tbody>\n",
              "    <tr>\n",
              "      <th>0</th>\n",
              "      <td>1430.0</td>\n",
              "      <td>using pixiedust for fast, flexible, and easier...</td>\n",
              "      <td>1</td>\n",
              "    </tr>\n",
              "    <tr>\n",
              "      <th>1</th>\n",
              "      <td>1314.0</td>\n",
              "      <td>healthcare python streaming application demo</td>\n",
              "      <td>2</td>\n",
              "    </tr>\n",
              "    <tr>\n",
              "      <th>2</th>\n",
              "      <td>1429.0</td>\n",
              "      <td>use deep learning for image classification</td>\n",
              "      <td>3</td>\n",
              "    </tr>\n",
              "    <tr>\n",
              "      <th>3</th>\n",
              "      <td>1338.0</td>\n",
              "      <td>ml optimization using cognitive assistant</td>\n",
              "      <td>4</td>\n",
              "    </tr>\n",
              "    <tr>\n",
              "      <th>4</th>\n",
              "      <td>1276.0</td>\n",
              "      <td>deploy your python model as a restful api</td>\n",
              "      <td>5</td>\n",
              "    </tr>\n",
              "  </tbody>\n",
              "</table>\n",
              "</div>"
            ],
            "text/plain": [
              "   article_id                                              title  user_id\n",
              "0      1430.0  using pixiedust for fast, flexible, and easier...        1\n",
              "1      1314.0       healthcare python streaming application demo        2\n",
              "2      1429.0         use deep learning for image classification        3\n",
              "3      1338.0          ml optimization using cognitive assistant        4\n",
              "4      1276.0          deploy your python model as a restful api        5"
            ]
          },
          "execution_count": 17,
          "metadata": {},
          "output_type": "execute_result"
        }
      ],
      "source": [
        "## No need to change the code here - this will be helpful for later parts of the notebook\n",
        "# Run this cell to map the user email to a user_id column and remove the email column\n",
        "\n",
        "def email_mapper():\n",
        "    coded_dict = dict()\n",
        "    cter = 1\n",
        "    email_encoded = []\n",
        "    \n",
        "    for val in df['email']:\n",
        "        if val not in coded_dict:\n",
        "            coded_dict[val] = cter\n",
        "            cter+=1\n",
        "        \n",
        "        email_encoded.append(coded_dict[val])\n",
        "    return email_encoded\n",
        "\n",
        "email_encoded = email_mapper()\n",
        "del df['email']\n",
        "df['user_id'] = email_encoded\n",
        "\n",
        "# show header\n",
        "df.head()"
      ]
    },
    {
      "cell_type": "code",
      "execution_count": null,
      "metadata": {
        "id": "ZZTexaEKrkTi",
        "outputId": "6224dff8-2694-4ea6-c099-7a8ab4a7161b"
      },
      "outputs": [
        {
          "data": {
            "text/plain": [
              "5149"
            ]
          },
          "execution_count": 19,
          "metadata": {},
          "output_type": "execute_result"
        }
      ],
      "source": [
        "df.user_id.nunique()"
      ]
    },
    {
      "cell_type": "code",
      "execution_count": null,
      "metadata": {
        "id": "RffvN-hJrkTi",
        "outputId": "44d5d2ca-3148-44c2-881a-3ac6dc052ed6"
      },
      "outputs": [
        {
          "name": "stdout",
          "output_type": "stream",
          "text": [
            "It looks like you have everything right here! Nice job!\n"
          ]
        }
      ],
      "source": [
        "## If you stored all your results in the variable names above, \n",
        "## you shouldn't need to change anything in this cell\n",
        "\n",
        "sol_1_dict = {\n",
        "    '`50% of individuals have _____ or fewer interactions.`': median_val,\n",
        "    '`The total number of user-article interactions in the dataset is ______.`': tot_inter, #\n",
        "    '`The maximum number of user-article interactions by any 1 user is ______.`': max_views_by_user,\n",
        "    '`The most viewed article in the dataset was viewed _____ times.`': max_views, #\n",
        "    '`The article_id of the most viewed article is ______.`': most_viewed_article_id, #\n",
        "    '`The number of unique articles that have at least 1 rating ______.`': unique_articles,\n",
        "    '`The number of unique users in the dataset is ______`': unique_users,\n",
        "    '`The number of unique articles on the IBM platform`': total_articles\n",
        "}\n",
        "\n",
        "# Test your dictionary against the solution\n",
        "t.sol_1_test(sol_1_dict)"
      ]
    },
    {
      "cell_type": "markdown",
      "metadata": {
        "id": "TaSTERvqrkTi"
      },
      "source": [
        "### <a class=\"anchor\" id=\"Rank\">Part II: Rank-Based Recommendations</a>\n",
        "\n"
      ]
    },
    {
      "cell_type": "code",
      "execution_count": null,
      "metadata": {
        "id": "GYDnQcUcrkTj"
      },
      "outputs": [],
      "source": [
        "def get_top_articles(n, df=df):\n",
        "    '''\n",
        "    INPUT:\n",
        "    n - (int) the number of top articles to return\n",
        "    df - (pandas dataframe) df as defined at the top of the notebook \n",
        "    \n",
        "    OUTPUT:\n",
        "    top_articles - (list) A list of the top 'n' article titles \n",
        "    \n",
        "    '''\n",
        "    top_articles = list(df.groupby(['title'])['user_id'].count().sort_values(ascending=False).index[:n])\n",
        "    \n",
        "    return top_articles # Return the top article titles from df (not df_content)\n",
        "\n",
        "def get_top_article_ids(n, threshold=10, df=df):\n",
        "    '''\n",
        "    INPUT:\n",
        "    n - (int) the number of top articles to return\n",
        "    threshold - (int) the minimum number of interactions to consider\n",
        "    df - (pandas dataframe) df as defined at the top of the notebook \n",
        "    \n",
        "    OUTPUT:\n",
        "    top_articles - (list) A list of the top 'n' article titles \n",
        "    \n",
        "    '''\n",
        "    top_articles = df.groupby(['article_id'])['user_id'].count().sort_values(ascending=False).reset_index()\n",
        "    top_articles = top_articles[top_articles['user_id']>=10]\n",
        "    top_n_articles = top_articles.iloc[:10]\n",
        "    top_ids = [str(x) for x in top_n_articles['article_id']]\n",
        " \n",
        "    return top_ids # Return the top article ids"
      ]
    },
    {
      "cell_type": "code",
      "execution_count": null,
      "metadata": {
        "id": "sZyl8X9brkTj",
        "outputId": "069c7ceb-a7e9-4ad1-b551-6025c4fdae59"
      },
      "outputs": [
        {
          "name": "stdout",
          "output_type": "stream",
          "text": [
            "['use deep learning for image classification', 'insights from new york car accident reports', 'visualize car data with brunel', 'use xgboost, scikit-learn & ibm watson machine learning apis', 'predicting churn with the spss random tree algorithm', 'healthcare python streaming application demo', 'finding optimal locations of new store using decision optimization', 'apache spark lab, part 1: basic concepts', 'analyze energy consumption in buildings', 'gosales transactions for logistic regression model']\n",
            "['1429.0', '1330.0', '1431.0', '1427.0', '1364.0', '1314.0', '1293.0', '1170.0', '1162.0', '1304.0']\n"
          ]
        }
      ],
      "source": [
        "print(get_top_articles(10))\n",
        "print(get_top_article_ids(10))"
      ]
    },
    {
      "cell_type": "code",
      "execution_count": null,
      "metadata": {
        "id": "Q-Ympg34rkTj",
        "outputId": "fb5b0ae9-9c91-4aa6-98ad-571f67f224e7"
      },
      "outputs": [
        {
          "name": "stdout",
          "output_type": "stream",
          "text": [
            "Your top_5 looks like the solution list! Nice job.\n",
            "Your top_10 looks like the solution list! Nice job.\n",
            "Your top_20 looks like the solution list! Nice job.\n"
          ]
        }
      ],
      "source": [
        "# Test your function by returning the top 5, 10, and 20 articles\n",
        "top_5 = get_top_articles(5)\n",
        "top_10 = get_top_articles(10)\n",
        "top_20 = get_top_articles(20)\n",
        "\n",
        "# Test each of your three lists from above\n",
        "t.sol_2_test(get_top_articles)"
      ]
    },
    {
      "cell_type": "markdown",
      "metadata": {
        "id": "1DDTg6TIrkTj"
      },
      "source": [
        "### <a class=\"anchor\" id=\"User-User\">Part III: User-User Based Collaborative Filtering</a>\n",
        "\n"
      ]
    },
    {
      "cell_type": "code",
      "execution_count": null,
      "metadata": {
        "id": "_POi3EyzrkTj"
      },
      "outputs": [],
      "source": [
        "# create the user-article matrix with 1's and 0's\n",
        "\n",
        "def create_user_item_matrix(df):\n",
        "    '''\n",
        "    INPUT:\n",
        "    df - pandas dataframe with article_id, title, user_id columns\n",
        "    \n",
        "    OUTPUT:\n",
        "    user_item - user item matrix \n",
        "    \n",
        "    Description:\n",
        "    Return a matrix with user ids as rows and article ids on the columns with 1 values where a user interacted with \n",
        "    an article and a 0 otherwise\n",
        "    '''\n",
        "    \n",
        "    user_item = df.groupby(['user_id', 'article_id'])['title'].count().notnull().unstack()\n",
        "    user_item.fillna(0, inplace=True)\n",
        "    user_item = user_item[user_item.columns] = user_item[user_item.columns].astype(int)\n",
        "    \n",
        "    return user_item # return the user_item matrix \n",
        "\n",
        "user_item = create_user_item_matrix(df)"
      ]
    },
    {
      "cell_type": "code",
      "execution_count": null,
      "metadata": {
        "id": "AJ0eGngarkTj",
        "outputId": "cecef543-3d4b-4577-fd43-6d55bb06b596"
      },
      "outputs": [
        {
          "name": "stdout",
          "output_type": "stream",
          "text": [
            "You have passed our quick tests!  Please proceed!\n"
          ]
        }
      ],
      "source": [
        "## Tests: You should just need to run this cell.  Don't change the code.\n",
        "assert user_item.shape[0] == 5149, \"Oops!  The number of users in the user-article matrix doesn't look right.\"\n",
        "assert user_item.shape[1] == 714, \"Oops!  The number of articles in the user-article matrix doesn't look right.\"\n",
        "assert user_item.sum(axis=1)[1] == 36, \"Oops!  The number of articles seen by user 1 doesn't look right.\"\n",
        "print(\"You have passed our quick tests!  Please proceed!\")"
      ]
    },
    {
      "cell_type": "code",
      "execution_count": null,
      "metadata": {
        "scrolled": true,
        "id": "1pXkqJDBrkTk",
        "outputId": "9001076e-5012-443e-bde9-451cfb6799b6"
      },
      "outputs": [
        {
          "data": {
            "text/html": [
              "<div>\n",
              "<style scoped>\n",
              "    .dataframe tbody tr th:only-of-type {\n",
              "        vertical-align: middle;\n",
              "    }\n",
              "\n",
              "    .dataframe tbody tr th {\n",
              "        vertical-align: top;\n",
              "    }\n",
              "\n",
              "    .dataframe thead th {\n",
              "        text-align: right;\n",
              "    }\n",
              "</style>\n",
              "<table border=\"1\" class=\"dataframe\">\n",
              "  <thead>\n",
              "    <tr style=\"text-align: right;\">\n",
              "      <th>article_id</th>\n",
              "      <th>0.0</th>\n",
              "      <th>2.0</th>\n",
              "      <th>4.0</th>\n",
              "      <th>8.0</th>\n",
              "      <th>9.0</th>\n",
              "      <th>12.0</th>\n",
              "      <th>14.0</th>\n",
              "      <th>15.0</th>\n",
              "      <th>16.0</th>\n",
              "      <th>18.0</th>\n",
              "      <th>...</th>\n",
              "      <th>1434.0</th>\n",
              "      <th>1435.0</th>\n",
              "      <th>1436.0</th>\n",
              "      <th>1437.0</th>\n",
              "      <th>1439.0</th>\n",
              "      <th>1440.0</th>\n",
              "      <th>1441.0</th>\n",
              "      <th>1442.0</th>\n",
              "      <th>1443.0</th>\n",
              "      <th>1444.0</th>\n",
              "    </tr>\n",
              "    <tr>\n",
              "      <th>user_id</th>\n",
              "      <th></th>\n",
              "      <th></th>\n",
              "      <th></th>\n",
              "      <th></th>\n",
              "      <th></th>\n",
              "      <th></th>\n",
              "      <th></th>\n",
              "      <th></th>\n",
              "      <th></th>\n",
              "      <th></th>\n",
              "      <th></th>\n",
              "      <th></th>\n",
              "      <th></th>\n",
              "      <th></th>\n",
              "      <th></th>\n",
              "      <th></th>\n",
              "      <th></th>\n",
              "      <th></th>\n",
              "      <th></th>\n",
              "      <th></th>\n",
              "      <th></th>\n",
              "    </tr>\n",
              "  </thead>\n",
              "  <tbody>\n",
              "    <tr>\n",
              "      <th>1</th>\n",
              "      <td>0</td>\n",
              "      <td>0</td>\n",
              "      <td>0</td>\n",
              "      <td>0</td>\n",
              "      <td>0</td>\n",
              "      <td>0</td>\n",
              "      <td>0</td>\n",
              "      <td>0</td>\n",
              "      <td>0</td>\n",
              "      <td>0</td>\n",
              "      <td>...</td>\n",
              "      <td>0</td>\n",
              "      <td>0</td>\n",
              "      <td>1</td>\n",
              "      <td>0</td>\n",
              "      <td>1</td>\n",
              "      <td>0</td>\n",
              "      <td>0</td>\n",
              "      <td>0</td>\n",
              "      <td>0</td>\n",
              "      <td>0</td>\n",
              "    </tr>\n",
              "    <tr>\n",
              "      <th>2</th>\n",
              "      <td>0</td>\n",
              "      <td>0</td>\n",
              "      <td>0</td>\n",
              "      <td>0</td>\n",
              "      <td>0</td>\n",
              "      <td>0</td>\n",
              "      <td>0</td>\n",
              "      <td>0</td>\n",
              "      <td>0</td>\n",
              "      <td>0</td>\n",
              "      <td>...</td>\n",
              "      <td>0</td>\n",
              "      <td>0</td>\n",
              "      <td>0</td>\n",
              "      <td>0</td>\n",
              "      <td>0</td>\n",
              "      <td>0</td>\n",
              "      <td>0</td>\n",
              "      <td>0</td>\n",
              "      <td>0</td>\n",
              "      <td>0</td>\n",
              "    </tr>\n",
              "    <tr>\n",
              "      <th>3</th>\n",
              "      <td>0</td>\n",
              "      <td>0</td>\n",
              "      <td>0</td>\n",
              "      <td>0</td>\n",
              "      <td>0</td>\n",
              "      <td>1</td>\n",
              "      <td>0</td>\n",
              "      <td>0</td>\n",
              "      <td>0</td>\n",
              "      <td>0</td>\n",
              "      <td>...</td>\n",
              "      <td>0</td>\n",
              "      <td>0</td>\n",
              "      <td>1</td>\n",
              "      <td>0</td>\n",
              "      <td>0</td>\n",
              "      <td>0</td>\n",
              "      <td>0</td>\n",
              "      <td>0</td>\n",
              "      <td>0</td>\n",
              "      <td>0</td>\n",
              "    </tr>\n",
              "    <tr>\n",
              "      <th>4</th>\n",
              "      <td>0</td>\n",
              "      <td>0</td>\n",
              "      <td>0</td>\n",
              "      <td>0</td>\n",
              "      <td>0</td>\n",
              "      <td>0</td>\n",
              "      <td>0</td>\n",
              "      <td>0</td>\n",
              "      <td>0</td>\n",
              "      <td>0</td>\n",
              "      <td>...</td>\n",
              "      <td>0</td>\n",
              "      <td>0</td>\n",
              "      <td>0</td>\n",
              "      <td>0</td>\n",
              "      <td>0</td>\n",
              "      <td>0</td>\n",
              "      <td>0</td>\n",
              "      <td>0</td>\n",
              "      <td>0</td>\n",
              "      <td>0</td>\n",
              "    </tr>\n",
              "    <tr>\n",
              "      <th>5</th>\n",
              "      <td>0</td>\n",
              "      <td>0</td>\n",
              "      <td>0</td>\n",
              "      <td>0</td>\n",
              "      <td>0</td>\n",
              "      <td>0</td>\n",
              "      <td>0</td>\n",
              "      <td>0</td>\n",
              "      <td>0</td>\n",
              "      <td>0</td>\n",
              "      <td>...</td>\n",
              "      <td>0</td>\n",
              "      <td>0</td>\n",
              "      <td>0</td>\n",
              "      <td>0</td>\n",
              "      <td>0</td>\n",
              "      <td>0</td>\n",
              "      <td>0</td>\n",
              "      <td>0</td>\n",
              "      <td>0</td>\n",
              "      <td>0</td>\n",
              "    </tr>\n",
              "  </tbody>\n",
              "</table>\n",
              "<p>5 rows × 714 columns</p>\n",
              "</div>"
            ],
            "text/plain": [
              "article_id  0.0     2.0     4.0     8.0     9.0     12.0    14.0    15.0    \\\n",
              "user_id                                                                      \n",
              "1                0       0       0       0       0       0       0       0   \n",
              "2                0       0       0       0       0       0       0       0   \n",
              "3                0       0       0       0       0       1       0       0   \n",
              "4                0       0       0       0       0       0       0       0   \n",
              "5                0       0       0       0       0       0       0       0   \n",
              "\n",
              "article_id  16.0    18.0     ...    1434.0  1435.0  1436.0  1437.0  1439.0  \\\n",
              "user_id                      ...                                             \n",
              "1                0       0   ...         0       0       1       0       1   \n",
              "2                0       0   ...         0       0       0       0       0   \n",
              "3                0       0   ...         0       0       1       0       0   \n",
              "4                0       0   ...         0       0       0       0       0   \n",
              "5                0       0   ...         0       0       0       0       0   \n",
              "\n",
              "article_id  1440.0  1441.0  1442.0  1443.0  1444.0  \n",
              "user_id                                             \n",
              "1                0       0       0       0       0  \n",
              "2                0       0       0       0       0  \n",
              "3                0       0       0       0       0  \n",
              "4                0       0       0       0       0  \n",
              "5                0       0       0       0       0  \n",
              "\n",
              "[5 rows x 714 columns]"
            ]
          },
          "execution_count": 27,
          "metadata": {},
          "output_type": "execute_result"
        }
      ],
      "source": [
        "user_item.head()"
      ]
    },
    {
      "cell_type": "code",
      "execution_count": null,
      "metadata": {
        "id": "FvGaBCiXrkTk"
      },
      "outputs": [],
      "source": [
        "def find_similar_users(user_id, user_item=user_item):\n",
        "    '''\n",
        "    INPUT:\n",
        "    user_id - (int) a user_id\n",
        "    user_item - (pandas dataframe) matrix of users by articles: \n",
        "                1's when a user has interacted with an article, 0 otherwise\n",
        "    \n",
        "    OUTPUT:\n",
        "    similar_users - (list) an ordered list where the closest users (largest dot product users)\n",
        "                    are listed first\n",
        "    \n",
        "    Description:\n",
        "    Computes the similarity of every pair of users based on the dot product\n",
        "    Returns an ordered\n",
        "    \n",
        "    '''\n",
        "    # compute similarity of each user to the provided user\n",
        "\n",
        "    user = np.array(user_item.iloc[user_id-1])\n",
        "    others = np.array(user_item)\n",
        "    user = user.reshape(user.shape[0],1)\n",
        "    dot_prd = others.dot(user)\n",
        "\n",
        "    dp = pd.DataFrame(dot_prd)\n",
        "    dp.insert(0,'user_id',dp.index+1)\n",
        "    dp.rename(columns={0:'similarity grade'}, inplace=True)\n",
        "\n",
        "    similar_users = dp.sort_values(by=['similarity grade'], ascending=False)\n",
        "    \n",
        "    sim_users = similar_users[similar_users['user_id']!=user_id]\n",
        "    sim_users = sim_users['user_id'].tolist()\n",
        "    return sim_users"
      ]
    },
    {
      "cell_type": "code",
      "execution_count": null,
      "metadata": {
        "id": "bBg7OVudrkTl"
      },
      "outputs": [],
      "source": [
        "# Do a spot check of your function\n",
        "print(\"The 10 most similar users to user 1 are: {}\".format(find_similar_users(1)[:10]))\n",
        "print(\"The 5 most similar users to user 3933 are: {}\".format(find_similar_users(3933)[:5]))\n",
        "print(\"The 3 most similar users to user 46 are: {}\".format(find_similar_users(46)[:3]))"
      ]
    },
    {
      "cell_type": "code",
      "execution_count": null,
      "metadata": {
        "id": "fJQYR-UPrkTl"
      },
      "outputs": [],
      "source": [
        "def get_article_names(article_ids, df=df):\n",
        "    '''\n",
        "    INPUT:\n",
        "    article_ids - (list) a list of article ids\n",
        "    df - (pandas dataframe) df as defined at the top of the notebook\n",
        "    \n",
        "    OUTPUT:\n",
        "    article_names - (list) a list of article names associated with the list of article ids \n",
        "                    (this is identified by the title column)\n",
        "    '''\n",
        "    art_titles = df.groupby(['article_id','title']).size().reset_index()\n",
        "    art_titles.drop(columns=0, inplace=True)\n",
        "\n",
        "    article_names = art_titles[art_titles['article_id'].isin(article_ids)]['title']\n",
        "    article_names = article_names.tolist()\n",
        "    \n",
        "    return article_names # Return the article names associated with list of article ids\n",
        "\n",
        "\n",
        "def get_user_articles(user_id, df=df, user_item=user_item):\n",
        "    '''\n",
        "    INPUT:\n",
        "    user_id - (int) a user id\n",
        "    df - (pandas dataframe) df as defined at the top of the notebook\n",
        "    user_item - (pandas dataframe) matrix of users by articles: \n",
        "                1's when a user has interacted with an article, 0 otherwise\n",
        "    \n",
        "    OUTPUT:\n",
        "    article_ids - (list) a list of the article ids seen by the user\n",
        "    article_names - (list) a list of article names associated with the list of article ids \n",
        "                    (this is identified by the doc_full_name column in df_content)\n",
        "    \n",
        "    Description:\n",
        "    Provides a list of the article_ids and article titles that have been seen by a user\n",
        "    '''\n",
        "    user = user_item.iloc[user_id-1:user_id]==1\n",
        "    user_articles = user.loc[:,(user.values).tolist()[0]].columns\n",
        "\n",
        "    all_art_user_inter=df.groupby(['article_id'])['user_id'].count().reset_index()\n",
        "\n",
        "    user_articles_s = pd.Series(user_articles).reset_index()\n",
        "    art_with_inter = pd.merge(user_articles_s,all_art_user_inter, on='article_id')\n",
        "    art_with_inter.drop(columns=['index'], inplace=True)\n",
        "    art_with_inter.sort_values(by='user_id', ascending=False, inplace=True)\n",
        "    \n",
        "    article_ids = art_with_inter['article_id']\n",
        "    article_names = get_article_names(article_ids)\n",
        "    \n",
        "    return article_ids.astype(str), article_names # return the ids and names\n",
        "\n",
        "\n",
        "def user_user_recs(user_id, m=10):\n",
        "    '''\n",
        "    INPUT:\n",
        "    user_id - (int) a user id\n",
        "    m - (int) the number of recommendations you want for the user\n",
        "    \n",
        "    OUTPUT:\n",
        "    recs - (list) a list of recommendations for the user\n",
        "    \n",
        "    Description:\n",
        "    Loops through the users based on closeness to the input user_id\n",
        "    For each user - finds articles the user hasn't seen before and provides them as recs\n",
        "    Does this until m recommendations are found\n",
        "    \n",
        "    Notes:\n",
        "    Users who are the same closeness are chosen arbitrarily as the 'next' user\n",
        "    \n",
        "    For the user where the number of recommended articles starts below m \n",
        "    and ends exceeding m, the last items are chosen arbitrarily\n",
        "    \n",
        "    '''\n",
        "    recs=set()\n",
        "    user_seen = get_user_articles(user_id)[0]\n",
        "\n",
        "    for u in find_similar_users(user_id):\n",
        "        if len(recs)==m:\n",
        "            break\n",
        "        for i in get_user_articles(u)[0]:\n",
        "            if i not in user_seen: \n",
        "                recs.add(i)\n",
        "            if len(recs)==m:\n",
        "                break\n",
        "    \n",
        "    return recs # return your recommendations for this user_id    "
      ]
    },
    {
      "cell_type": "code",
      "execution_count": null,
      "metadata": {
        "scrolled": true,
        "id": "BuTh-dp7rkTm"
      },
      "outputs": [],
      "source": [
        "# Check Results\n",
        "get_article_names(user_user_recs(1, 10)) # Return 10 recommendations for user 1"
      ]
    },
    {
      "cell_type": "code",
      "execution_count": null,
      "metadata": {
        "id": "jj5tM00wrkTm"
      },
      "outputs": [],
      "source": [
        "# Test your functions here - No need to change this code - just run this cell\n",
        "assert set(get_article_names(['1024.0', '1176.0', '1305.0', '1314.0', '1422.0', '1427.0'])) == set(['using deep learning to reconstruct high-resolution audio', 'build a python app on the streaming analytics service', 'gosales transactions for naive bayes model', 'healthcare python streaming application demo', 'use r dataframes & ibm watson natural language understanding', 'use xgboost, scikit-learn & ibm watson machine learning apis']), \"Oops! Your the get_article_names function doesn't work quite how we expect.\"\n",
        "assert set(get_article_names(['1320.0', '232.0', '844.0'])) == set(['housing (2015): united states demographic measures','self-service data preparation with ibm data refinery','use the cloudant-spark connector in python notebook']), \"Oops! Your the get_article_names function doesn't work quite how we expect.\"\n",
        "assert set(get_user_articles(20)[0]) == set(['1320.0', '232.0', '844.0'])\n",
        "assert set(get_user_articles(20)[1]) == set(['housing (2015): united states demographic measures', 'self-service data preparation with ibm data refinery','use the cloudant-spark connector in python notebook'])\n",
        "assert set(get_user_articles(2)[0]) == set(['1024.0', '1176.0', '1305.0', '1314.0', '1422.0', '1427.0'])\n",
        "assert set(get_user_articles(2)[1]) == set(['using deep learning to reconstruct high-resolution audio', 'build a python app on the streaming analytics service', 'gosales transactions for naive bayes model', 'healthcare python streaming application demo', 'use r dataframes & ibm watson natural language understanding', 'use xgboost, scikit-learn & ibm watson machine learning apis'])\n",
        "print(\"If this is all you see, you passed all of our tests!  Nice job!\")"
      ]
    },
    {
      "cell_type": "code",
      "execution_count": null,
      "metadata": {
        "id": "8XMv_cCdrkTm"
      },
      "outputs": [],
      "source": [
        "def get_top_sorted_users(user_id, user_item=user_item):\n",
        "    '''\n",
        "    INPUT:\n",
        "    user_id - (int)\n",
        "    user_item - (pandas dataframe) matrix of users by articles: \n",
        "            1's when a user has interacted with an article, 0 otherwise\n",
        "    \n",
        "            \n",
        "    OUTPUT:\n",
        "    neighbors_df - (pandas dataframe) a dataframe with:\n",
        "                    neighbor_id - is a neighbor user_id\n",
        "                    similarity - measure of the similarity of each user to the provided user_id\n",
        "                    num_interactions - the number of articles viewed by the user - if a u\n",
        "                    \n",
        "    Other Details - sort the neighbors_df by the similarity and then by number of interactions where \n",
        "                    highest of each is higher in the dataframe\n",
        "     \n",
        "    '''\n",
        "    # compute similarity of each user to the provided user\n",
        "\n",
        "    user = np.array(user_item.iloc[user_id-1])\n",
        "    others = np.array(user_item)\n",
        "    user = user.reshape(user.shape[0],1)\n",
        "    dot_prd = others.dot(user)\n",
        "\n",
        "    dp = pd.DataFrame(dot_prd)\n",
        "    dp.insert(0,'user_id',user_item.reset_index()['user_id'])\n",
        "    dp.rename(columns={0:'similarity grade'}, inplace=True)\n",
        "\n",
        "    # Ranking the user-article interactions (option1 and option2)\n",
        "    \n",
        "    # option 1 using user_item COMMENTED OUT\n",
        "    #user_articles = user_item.sum(axis=1).reset_index()\n",
        "    #user_articles.rename(columns={0:'total articles'}, inplace=True)\n",
        "    \n",
        "    # option 2 using df\n",
        "    user_articles = df.groupby(['user_id'])['article_id'].count().reset_index()\n",
        "    user_articles.rename(columns={'article_id':'total articles'}, inplace=True)\n",
        "    \n",
        "    \n",
        "    similar_users = pd.merge(dp,user_articles, on='user_id')\n",
        "\n",
        "    similar_users = similar_users.sort_values(by=['similarity grade','total articles'], ascending=False)\n",
        "    \n",
        "    neighbors_df = similar_users[similar_users['user_id']!=user_id]\n",
        "    \n",
        "    return neighbors_df # Return the dataframe specified in the doc_string\n",
        "\n",
        "\n",
        "def user_user_recs_part2(user_id, m=10):\n",
        "    '''\n",
        "    INPUT:\n",
        "    user_id - (int) a user id\n",
        "    m - (int) the number of recommendations you want for the user\n",
        "    \n",
        "    OUTPUT:\n",
        "    recs - (list) a list of recommendations for the user by article id\n",
        "    rec_names - (list) a list of recommendations for the user by article title\n",
        "    \n",
        "    Description:\n",
        "    Loops through the users based on closeness to the input user_id\n",
        "    For each user - finds articles the user hasn't seen before and provides them as recs\n",
        "    Does this until m recommendations are found\n",
        "    \n",
        "    Notes:\n",
        "    * Choose the users that have the most total article interactions \n",
        "    before choosing those with fewer article interactions.\n",
        "\n",
        "    * Choose articles with the articles with the most total interactions \n",
        "    before choosing those with fewer total interactions. \n",
        "   \n",
        "    '''\n",
        "    recs=set()\n",
        "    user_seen = get_user_articles(user_id)[0]\n",
        "\n",
        "    for u in find_similar_users(user_id):\n",
        "        if len(recs)==m:\n",
        "            break\n",
        "        for i in get_user_articles(u)[0]:\n",
        "            if i not in user_seen: \n",
        "                recs.add(i)\n",
        "            if len(recs)==m:\n",
        "                break\n",
        "    \n",
        "    rec_names = get_article_names(recs)\n",
        "    \n",
        "    return recs, rec_names"
      ]
    },
    {
      "cell_type": "code",
      "execution_count": null,
      "metadata": {
        "id": "4Jh_ohwbrkTm"
      },
      "outputs": [],
      "source": [
        "# Quick spot check - don't change this code - just use it to test your functions\n",
        "rec_ids, rec_names = user_user_recs_part2(20, 10)\n",
        "print(\"The top 10 recommendations for user 20 are the following article ids:\")\n",
        "print(rec_ids)\n",
        "print()\n",
        "print(\"The top 10 recommendations for user 20 are the following article names:\")\n",
        "print(rec_names)"
      ]
    },
    {
      "cell_type": "code",
      "execution_count": null,
      "metadata": {
        "id": "cVVLrT0GrkTm"
      },
      "outputs": [],
      "source": [
        "### Tests with a dictionary of results\n",
        "\n",
        "user1_most_sim = get_top_sorted_users(1).iloc[0]['user_id']# Find the user that is most similar to user 1 \n",
        "user131_10th_sim = get_top_sorted_users(131).iloc[9]['user_id']# Find the 10th most similar user to user 131"
      ]
    },
    {
      "cell_type": "code",
      "execution_count": null,
      "metadata": {
        "id": "-8ay2iWPrkTm"
      },
      "outputs": [],
      "source": [
        "## Dictionary Test Here\n",
        "sol_5_dict = {\n",
        "    'The user that is most similar to user 1.': user1_most_sim, \n",
        "    'The user that is the 10th most similar to user 131': user131_10th_sim,\n",
        "}\n",
        "\n",
        "t.sol_5_test(sol_5_dict)"
      ]
    },
    {
      "cell_type": "code",
      "execution_count": null,
      "metadata": {
        "id": "Jo1HtkDjrkTn"
      },
      "outputs": [],
      "source": [
        "new_user = '0.0'\n",
        "\n",
        "# What would your recommendations be for this new user '0.0'?  As a new user, they have no observed articles.\n",
        "# Provide a list of the top 10 article ids you would give to \n",
        "new_user_recs = get_top_article_ids(10)"
      ]
    },
    {
      "cell_type": "code",
      "execution_count": null,
      "metadata": {
        "id": "wvbVLbrSrkTn"
      },
      "outputs": [],
      "source": [
        "assert set(new_user_recs) == set(['1314.0','1429.0','1293.0','1427.0','1162.0','1364.0','1304.0','1170.0','1431.0','1330.0']), \"Oops!  It makes sense that in this case we would want to recommend the most popular articles, because we don't know anything about these users.\"\n",
        "\n",
        "print(\"That's right!  Nice job!\")"
      ]
    },
    {
      "cell_type": "markdown",
      "metadata": {
        "id": "C_C_0SzcrkTo"
      },
      "source": [
        "### <a class=\"anchor\" id=\"Matrix-Fact\">Part IV: Matrix Factorization</a>\n",
        "\n",
        " "
      ]
    },
    {
      "cell_type": "code",
      "execution_count": null,
      "metadata": {
        "id": "9sgIZq8ZrkTo"
      },
      "outputs": [],
      "source": [
        "# Load the matrix here\n",
        "user_item_matrix = pd.read_pickle('user_item_matrix.p')"
      ]
    },
    {
      "cell_type": "code",
      "execution_count": null,
      "metadata": {
        "id": "xbxpJvqBrkTo"
      },
      "outputs": [],
      "source": [
        "# quick look at the matrix\n",
        "user_item_matrix.head()"
      ]
    },
    {
      "cell_type": "code",
      "execution_count": null,
      "metadata": {
        "id": "lfmpf6E7rkTo"
      },
      "outputs": [],
      "source": [
        "# Perform SVD on the User-Item Matrix Here\n",
        "\n",
        "u, s, vt = np.linalg.svd(user_item_matrix)"
      ]
    },
    {
      "cell_type": "code",
      "execution_count": null,
      "metadata": {
        "scrolled": false,
        "id": "cqMC5MmGrkTo"
      },
      "outputs": [],
      "source": [
        "num_latent_feats = np.arange(10,700+10,20)\n",
        "sum_errs = []\n",
        "\n",
        "for k in num_latent_feats:\n",
        "    # restructure with k latent features\n",
        "    s_new, u_new, vt_new = np.diag(s[:k]), u[:, :k], vt[:k, :]\n",
        "    \n",
        "    # take dot product\n",
        "    user_item_est = np.around(np.dot(np.dot(u_new, s_new), vt_new))\n",
        "    \n",
        "    # compute error for each prediction to actual value\n",
        "    diffs = np.subtract(user_item_matrix, user_item_est)\n",
        "    \n",
        "    # total errors and keep track of them\n",
        "    err = np.sum(np.sum(np.abs(diffs)))\n",
        "    sum_errs.append(err)\n",
        "    \n",
        "\n",
        "print(sum_errs)\n",
        "print(num_latent_feats)\n",
        "print(1 - np.array(sum_errs)/df.shape[0])\n",
        "\n",
        "plt.plot(num_latent_feats, 1 - np.array(sum_errs)/df.shape[0]);\n",
        "plt.xlabel('Number of Latent Features');\n",
        "plt.ylabel('Accuracy');\n",
        "plt.title('Accuracy vs. Number of Latent Features');"
      ]
    },
    {
      "cell_type": "code",
      "execution_count": null,
      "metadata": {
        "id": "eogqsYsBrkTp"
      },
      "outputs": [],
      "source": [
        "df_train = df.head(40000)\n",
        "df_test = df.tail(5993)\n",
        "\n",
        "def create_test_and_train_user_item(df_train, df_test):\n",
        "    '''\n",
        "    INPUT:\n",
        "    df_train - training dataframe\n",
        "    df_test - test dataframe\n",
        "    \n",
        "    OUTPUT:\n",
        "    user_item_train - a user-item matrix of the training dataframe \n",
        "                      (unique users for each row and unique articles for each column)\n",
        "    user_item_test - a user-item matrix of the testing dataframe \n",
        "                    (unique users for each row and unique articles for each column)\n",
        "    test_idx - all of the test user ids\n",
        "    test_arts - all of the test article ids\n",
        "    \n",
        "    '''\n",
        "    user_item_train = create_user_item_matrix(df_train)             \n",
        "    user_item_test = create_user_item_matrix(df_test)\n",
        "    \n",
        "    user_item_test2 = user_item_test.reset_index()\n",
        "    test_idx = user_item_test2['user_id'].tolist()\n",
        "    test_arts = user_item_test.columns\n",
        "    \n",
        "    return user_item_train, user_item_test, test_idx, test_arts\n",
        "\n",
        "user_item_train, user_item_test, test_idx, test_arts = create_test_and_train_user_item(df_train, df_test)"
      ]
    },
    {
      "cell_type": "code",
      "execution_count": null,
      "metadata": {
        "id": "bUzMuFBmrkTp"
      },
      "outputs": [],
      "source": [
        "# How many users can we make predictions for in the test set?\n",
        "\n",
        "user_id_train = user_item_train.reset_index().user_id\n",
        "user_id_test = user_item_test.reset_index().user_id\n",
        "\n",
        "user_id_intersect = np.intersect1d(user_id_train,user_id_test)\n",
        "user_id_intersect.shape[0]"
      ]
    },
    {
      "cell_type": "code",
      "execution_count": null,
      "metadata": {
        "id": "6oUvwwkvrkTp"
      },
      "outputs": [],
      "source": [
        "# How many users in the test set are we not able to make predictions for because of the cold start problem?\n",
        "\n",
        "user_item_test.shape[0] - user_id_intersect.shape[0]"
      ]
    },
    {
      "cell_type": "code",
      "execution_count": null,
      "metadata": {
        "id": "Rt1PeaurrkTp"
      },
      "outputs": [],
      "source": [
        "# How many articles can we make predictions for in the test set?\n",
        "\n",
        "art_id_train = user_item_train.columns\n",
        "art_id_test = user_item_test.columns\n",
        "\n",
        "art_id_intersect = [value for value in art_id_train if value in art_id_test]\n",
        "len(art_id_intersect)"
      ]
    },
    {
      "cell_type": "code",
      "execution_count": null,
      "metadata": {
        "id": "g48ssZg1rkTp"
      },
      "outputs": [],
      "source": [
        "# How many articles in the test set are we not able to make predictions for because of the cold start problem?\n",
        "\n",
        "len(art_id_test) - len(art_id_intersect)"
      ]
    },
    {
      "cell_type": "code",
      "execution_count": null,
      "metadata": {
        "id": "nwIVQ4dlrkTp"
      },
      "outputs": [],
      "source": [
        "# Replace the values in the dictionary below\n",
        "a = 662 \n",
        "b = 574 \n",
        "c = 20 \n",
        "d = 0 \n",
        "\n",
        "\n",
        "sol_4_dict = {\n",
        "    'How many users can we make predictions for in the test set?': c, \n",
        "    'How many users in the test set are we not able to make predictions for because of the cold start problem?': a, \n",
        "    'How many articles can we make predictions for in the test set?': b,\n",
        "    'How many articles in the test set are we not able to make predictions for because of the cold start problem?': d\n",
        "}\n",
        "\n",
        "t.sol_4_test(sol_4_dict)"
      ]
    },
    {
      "cell_type": "code",
      "execution_count": null,
      "metadata": {
        "id": "id7GXhp3rkTq"
      },
      "outputs": [],
      "source": [
        "# Removing the articles we can't make predictions\n",
        "inter_cols = user_item_train.columns & user_item_test.columns\n",
        "user_item_train = user_item_train[inter_cols]\n",
        "user_item_train.shape"
      ]
    },
    {
      "cell_type": "code",
      "execution_count": null,
      "metadata": {
        "id": "S6oyBFSXrkTq"
      },
      "outputs": [],
      "source": [
        "# Selecting the subset of rows that I can predict\n",
        "user_item_train_inter = user_item_train.query('user_id in @user_id_intersect')\n",
        "user_item_test_inter = user_item_test.query('user_id in @user_id_intersect')"
      ]
    },
    {
      "cell_type": "code",
      "execution_count": null,
      "metadata": {
        "id": "Fe-wbS9erkTq"
      },
      "outputs": [],
      "source": [
        "u_train, s_train, vt_train = np.linalg.svd(user_item_train)"
      ]
    },
    {
      "cell_type": "code",
      "execution_count": null,
      "metadata": {
        "id": "QUlpmnB9rkTq"
      },
      "outputs": [],
      "source": [
        "num_latent_feats = np.arange(10,user_item_train.shape[1],20) \n",
        "sum_errs = []\n",
        "\n",
        "for k in num_latent_feats:\n",
        "    # restructure with k latent features\n",
        "    s_new, u_new, vt_new = np.diag(s_train[:k]), u_train[:, :k], vt_train[:k, :]    \n",
        "    \n",
        "    # take dot product\n",
        "    user_item_est = np.around(np.dot(np.dot(u_new[user_id_intersect-1], s_new), vt_new))\n",
        "    \n",
        "    # compute error for each prediction to actual value\n",
        "    diffs = np.subtract(user_item_test_inter, user_item_est)\n",
        "    \n",
        "    # total errors and keep track of them\n",
        "    err = np.sum(np.sum(np.abs(diffs)))\n",
        "    sum_errs.append(err)\n",
        "    \n",
        "print(sum_errs)\n",
        "print(num_latent_feats)\n",
        "print(1 - np.array(sum_errs)/df.shape[0])\n",
        "    \n",
        "plt.plot(num_latent_feats, 1 - np.array(sum_errs)/df.shape[0]);\n",
        "plt.xlabel('Number of Latent Features');\n",
        "plt.ylabel('Accuracy');\n",
        "plt.title('Accuracy vs. Number of Latent Features');"
      ]
    },
    {
      "cell_type": "code",
      "execution_count": null,
      "metadata": {
        "id": "igo8FkslrkTq"
      },
      "outputs": [],
      "source": [
        "print('u:{}'.format(u.shape))\n",
        "print('s:{}'.format(s.shape))\n",
        "print('vt:{}\\n'.format(vt.shape))\n",
        "print('u_new:{}'.format(u_new.shape))\n",
        "print('s_new:{}'.format(s_new.shape))\n",
        "print('vt_new:{}\\n'.format(vt_new.shape))"
      ]
    }
  ],
  "metadata": {
    "kernelspec": {
      "display_name": "Python 3",
      "language": "python",
      "name": "python3"
    },
    "language_info": {
      "codemirror_mode": {
        "name": "ipython",
        "version": 3
      },
      "file_extension": ".py",
      "mimetype": "text/x-python",
      "name": "python",
      "nbconvert_exporter": "python",
      "pygments_lexer": "ipython3",
      "version": "3.6.3"
    },
    "colab": {
      "provenance": []
    }
  },
  "nbformat": 4,
  "nbformat_minor": 0
}